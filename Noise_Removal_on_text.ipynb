{
  "nbformat": 4,
  "nbformat_minor": 0,
  "metadata": {
    "colab": {
      "provenance": [],
      "authorship_tag": "ABX9TyNMEmX2mrigzzeaBEZQ4+4Z",
      "include_colab_link": true
    },
    "kernelspec": {
      "name": "python3",
      "display_name": "Python 3"
    },
    "language_info": {
      "name": "python"
    }
  },
  "cells": [
    {
      "cell_type": "markdown",
      "metadata": {
        "id": "view-in-github",
        "colab_type": "text"
      },
      "source": [
        "<a href=\"https://colab.research.google.com/github/Varun-531/FML/blob/main/Noise_Removal_on_text.ipynb\" target=\"_parent\"><img src=\"https://colab.research.google.com/assets/colab-badge.svg\" alt=\"Open In Colab\"/></a>"
      ]
    },
    {
      "cell_type": "code",
      "source": [
        "import nltk\n",
        "nltk.download('punkt')\n",
        "nltk.download('stopwords')\n",
        "\n"
      ],
      "metadata": {
        "colab": {
          "base_uri": "https://localhost:8080/"
        },
        "id": "otwsVCPwyOPi",
        "outputId": "92d208fc-d543-410e-857a-1e31b279ad97"
      },
      "execution_count": 27,
      "outputs": [
        {
          "output_type": "stream",
          "name": "stderr",
          "text": [
            "[nltk_data] Downloading package punkt to /root/nltk_data...\n",
            "[nltk_data]   Package punkt is already up-to-date!\n",
            "[nltk_data] Downloading package stopwords to /root/nltk_data...\n",
            "[nltk_data]   Unzipping corpora/stopwords.zip.\n"
          ]
        },
        {
          "output_type": "execute_result",
          "data": {
            "text/plain": [
              "True"
            ]
          },
          "metadata": {},
          "execution_count": 27
        }
      ]
    },
    {
      "cell_type": "code",
      "execution_count": 1,
      "metadata": {
        "id": "qof6QqVuoD7l"
      },
      "outputs": [],
      "source": [
        "import nltk\n",
        "from nltk.corpus import stopwords\n",
        "from nltk.tokenize import word_tokenize\n",
        "import string"
      ]
    },
    {
      "cell_type": "code",
      "source": [
        "def remove_pun(sent):\n",
        "  for i in sent:\n",
        "    if i in string.punctuation:\n",
        "      sent = sent.replace(i,\"\")\n",
        "  return sent\n",
        "\n",
        "def remove_stopwords(sentence):\n",
        "  stop_words = set(stopwords.words('english'))\n",
        "  word_tokens = word_tokenize(sentence)\n",
        "  filtered_sentence = []\n",
        "  for w in word_tokens:\n",
        "    if w not in stop_words:\n",
        "      filtered_sentence.append(w)\n",
        "  return filtered_sentence\n",
        "\n",
        "example = \"\"\"Ratan Tata was born in Bombay, now Mumbai, during the British Raj, on 28 December 1937.[6] He is the son of Naval Tata, who was born in Surat and later adopted into the Tata family, and Sooni Tata, the niece of Tata group founder Jamsetji Tata. Tata's biological grandfather, Hormusji Tata, was a member of the Tata family by blood.\"\"\"\n",
        "\n",
        "print(f\"Original Sentence : \\n{example}\")\n",
        "example = remove_pun(example)\n",
        "print(f\"\\nSentence after removing punctuations : \\n{example}\")\n",
        "example = \" \".join(remove_stopwords(example))\n",
        "print(f\"\\nSentence after removing stopwords : \\n{example}\")"
      ],
      "metadata": {
        "colab": {
          "base_uri": "https://localhost:8080/"
        },
        "id": "Ht2RIt4Lo04m",
        "outputId": "a81775f3-0595-47e0-ac91-fe5371a7ac20"
      },
      "execution_count": 29,
      "outputs": [
        {
          "output_type": "stream",
          "name": "stdout",
          "text": [
            "Original Sentence : \n",
            "Ratan Tata was born in Bombay, now Mumbai, during the British Raj, on 28 December 1937.[6] He is the son of Naval Tata, who was born in Surat and later adopted into the Tata family, and Sooni Tata, the niece of Tata group founder Jamsetji Tata. Tata's biological grandfather, Hormusji Tata, was a member of the Tata family by blood.\n",
            "\n",
            "Sentence after removing punctuations : \n",
            "Ratan Tata was born in Bombay now Mumbai during the British Raj on 28 December 19376 He is the son of Naval Tata who was born in Surat and later adopted into the Tata family and Sooni Tata the niece of Tata group founder Jamsetji Tata Tatas biological grandfather Hormusji Tata was a member of the Tata family by blood\n",
            "\n",
            "Sentence after removing stopwords : \n",
            "Ratan Tata born Bombay Mumbai British Raj 28 December 19376 He son Naval Tata born Surat later adopted Tata family Sooni Tata niece Tata group founder Jamsetji Tata Tatas biological grandfather Hormusji Tata member Tata family blood\n"
          ]
        }
      ]
    },
    {
      "cell_type": "code",
      "source": [],
      "metadata": {
        "id": "tpMlnSAfvGuC"
      },
      "execution_count": null,
      "outputs": []
    }
  ]
}