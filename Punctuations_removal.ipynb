{
  "nbformat": 4,
  "nbformat_minor": 0,
  "metadata": {
    "colab": {
      "provenance": [],
      "authorship_tag": "ABX9TyNs89tO/ERSj8/LiVQ2P0d5",
      "include_colab_link": true
    },
    "kernelspec": {
      "name": "python3",
      "display_name": "Python 3"
    },
    "language_info": {
      "name": "python"
    }
  },
  "cells": [
    {
      "cell_type": "markdown",
      "metadata": {
        "id": "view-in-github",
        "colab_type": "text"
      },
      "source": [
        "<a href=\"https://colab.research.google.com/github/Varun-531/FML/blob/main/Punctuations_removal.ipynb\" target=\"_parent\"><img src=\"https://colab.research.google.com/assets/colab-badge.svg\" alt=\"Open In Colab\"/></a>"
      ]
    },
    {
      "cell_type": "code",
      "execution_count": null,
      "metadata": {
        "colab": {
          "base_uri": "https://localhost:8080/"
        },
        "id": "nmE2NJBFuteX",
        "outputId": "4d9f143e-e15c-4569-fb08-4ce616a66d86"
      },
      "outputs": [
        {
          "output_type": "stream",
          "name": "stdout",
          "text": [
            "I don t often go swimming  I prefer to play tennis \n"
          ]
        }
      ],
      "source": [
        "import re\n",
        "text =  '''I don't often go swimming; I prefer to play tennis.'''\n",
        "remove = re.sub(r'[^\\w\\s]',' ',text)\n",
        "print(remove)"
      ]
    }
  ]
}