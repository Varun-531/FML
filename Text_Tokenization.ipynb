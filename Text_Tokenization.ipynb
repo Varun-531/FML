{
  "nbformat": 4,
  "nbformat_minor": 0,
  "metadata": {
    "colab": {
      "provenance": [],
      "authorship_tag": "ABX9TyNzU9bhDNs22UOpKHI1hWQq",
      "include_colab_link": true
    },
    "kernelspec": {
      "name": "python3",
      "display_name": "Python 3"
    },
    "language_info": {
      "name": "python"
    }
  },
  "cells": [
    {
      "cell_type": "markdown",
      "metadata": {
        "id": "view-in-github",
        "colab_type": "text"
      },
      "source": [
        "<a href=\"https://colab.research.google.com/github/Varun-531/FML/blob/main/Text_Tokenization.ipynb\" target=\"_parent\"><img src=\"https://colab.research.google.com/assets/colab-badge.svg\" alt=\"Open In Colab\"/></a>"
      ]
    },
    {
      "cell_type": "markdown",
      "source": [
        "\n",
        "## **Tokenization using split()**"
      ],
      "metadata": {
        "id": "aSAJoM7Ni2hH"
      }
    },
    {
      "cell_type": "code",
      "source": [
        "text = '''the punishment assigned to a defendant found guilty by a court. Or fixed by law for a particular offence.'''\n",
        "tokens = text.split()\n",
        "print(tokens)\n",
        "print(\"No of tokens : \",len(tokens))"
      ],
      "metadata": {
        "colab": {
          "base_uri": "https://localhost:8080/"
        },
        "id": "o6Lgpazai9Tt",
        "outputId": "d113053e-e2bc-48c3-b86a-23a0640d0c82"
      },
      "execution_count": null,
      "outputs": [
        {
          "output_type": "stream",
          "name": "stdout",
          "text": [
            "['the', 'punishment', 'assigned', 'to', 'a', 'defendant', 'found', 'guilty', 'by', 'a', 'court.', 'Or', 'fixed', 'by', 'law', 'for', 'a', 'particular', 'offence.']\n",
            "No of tokens :  19\n"
          ]
        }
      ]
    },
    {
      "cell_type": "code",
      "source": [
        "text = '''the punishment assigned to a defendant found guilty by a court. Or fixed by law for a particular offence'''\n",
        "sentences = text.split('.')\n",
        "print(sentences)\n",
        "print(\"No of sentences : \",len(sentences))"
      ],
      "metadata": {
        "colab": {
          "base_uri": "https://localhost:8080/"
        },
        "id": "3txtaqM-i-ms",
        "outputId": "c478b555-e662-487a-e924-34b9ee3f8058"
      },
      "execution_count": null,
      "outputs": [
        {
          "output_type": "stream",
          "name": "stdout",
          "text": [
            "['the punishment assigned to a defendant found guilty by a court', ' Or fixed by law for a particular offence']\n",
            "No of sentences :  2\n"
          ]
        }
      ]
    },
    {
      "cell_type": "markdown",
      "source": [
        "## **Tokenization using Regular Expressions**"
      ],
      "metadata": {
        "id": "iDEXNrNtjB2o"
      }
    },
    {
      "cell_type": "code",
      "source": [
        "import re"
      ],
      "metadata": {
        "id": "VzrB9bjzjAfU"
      },
      "execution_count": null,
      "outputs": []
    },
    {
      "cell_type": "code",
      "source": [
        "tokens = re.findall(\"[\\w']+\",text)\n",
        "print(tokens)\n",
        "print(\"No of tokens : \",len(tokens))"
      ],
      "metadata": {
        "colab": {
          "base_uri": "https://localhost:8080/"
        },
        "id": "cG-SzLJjjM0l",
        "outputId": "d00ba2da-5b43-47e6-f36e-3e18267d9a54"
      },
      "execution_count": null,
      "outputs": [
        {
          "output_type": "stream",
          "name": "stdout",
          "text": [
            "['the', 'punishment', 'assigned', 'to', 'a', 'defendant', 'found', 'guilty', 'by', 'a', 'court', 'Or', 'fixed', 'by', 'law', 'for', 'a', 'particular', 'offence']\n",
            "No of tokens :  19\n"
          ]
        }
      ]
    },
    {
      "cell_type": "code",
      "source": [
        "sentences = re.compile('[.?!] ').split(text)\n",
        "print(sentences)\n",
        "print(\"No of sentences : \",len(sentences))"
      ],
      "metadata": {
        "colab": {
          "base_uri": "https://localhost:8080/"
        },
        "id": "leELLmFOjOHs",
        "outputId": "feeba0fa-6e7d-4b57-aa96-708cc9bdc3d7"
      },
      "execution_count": null,
      "outputs": [
        {
          "output_type": "stream",
          "name": "stdout",
          "text": [
            "['the punishment assigned to a defendant found guilty by a court', 'Or fixed by law for a particular offence']\n",
            "No of sentences :  2\n"
          ]
        }
      ]
    },
    {
      "cell_type": "code",
      "source": [
        "!pip install --user -U nltk\n"
      ],
      "metadata": {
        "colab": {
          "base_uri": "https://localhost:8080/"
        },
        "id": "xI83l7rVjPp8",
        "outputId": "4370c1ba-1409-40a0-8bdf-1e64fe67c469"
      },
      "execution_count": null,
      "outputs": [
        {
          "output_type": "stream",
          "name": "stdout",
          "text": [
            "Looking in indexes: https://pypi.org/simple, https://us-python.pkg.dev/colab-wheels/public/simple/\n",
            "Requirement already satisfied: nltk in /usr/local/lib/python3.10/dist-packages (3.8.1)\n",
            "Requirement already satisfied: click in /usr/local/lib/python3.10/dist-packages (from nltk) (8.1.3)\n",
            "Requirement already satisfied: joblib in /usr/local/lib/python3.10/dist-packages (from nltk) (1.2.0)\n",
            "Requirement already satisfied: regex>=2021.8.3 in /usr/local/lib/python3.10/dist-packages (from nltk) (2022.10.31)\n",
            "Requirement already satisfied: tqdm in /usr/local/lib/python3.10/dist-packages (from nltk) (4.65.0)\n"
          ]
        }
      ]
    },
    {
      "cell_type": "code",
      "source": [
        "import nltk\n",
        "nltk.download('punkt')"
      ],
      "metadata": {
        "colab": {
          "base_uri": "https://localhost:8080/"
        },
        "id": "Od0J8QgDjRk_",
        "outputId": "d0fa2121-da03-4fe9-dcc7-a94eddbe52e3"
      },
      "execution_count": null,
      "outputs": [
        {
          "output_type": "stream",
          "name": "stderr",
          "text": [
            "[nltk_data] Downloading package punkt to /root/nltk_data...\n",
            "[nltk_data]   Unzipping tokenizers/punkt.zip.\n"
          ]
        },
        {
          "output_type": "execute_result",
          "data": {
            "text/plain": [
              "True"
            ]
          },
          "metadata": {},
          "execution_count": 7
        }
      ]
    },
    {
      "cell_type": "code",
      "source": [
        "from nltk.tokenize import word_tokenize \n",
        "tokens = word_tokenize(text)\n",
        "print(tokens)\n",
        "print(\"No.of tokens : \", len(tokens))"
      ],
      "metadata": {
        "colab": {
          "base_uri": "https://localhost:8080/"
        },
        "id": "vTTtXXDrjTN1",
        "outputId": "2a382fa3-c3c0-445f-bfe8-c8f5ffcf68ea"
      },
      "execution_count": null,
      "outputs": [
        {
          "output_type": "stream",
          "name": "stdout",
          "text": [
            "['the', 'punishment', 'assigned', 'to', 'a', 'defendant', 'found', 'guilty', 'by', 'a', 'court', '.', 'Or', 'fixed', 'by', 'law', 'for', 'a', 'particular', 'offence']\n",
            "No.of tokens :  20\n"
          ]
        }
      ]
    },
    {
      "cell_type": "code",
      "source": [
        "#sentence tokenization\n",
        "from nltk.tokenize import sent_tokenize\n",
        "sentences = sent_tokenize(text)\n",
        "print(sentences)\n",
        "print(\"No.of sentences : \", len(sentences))"
      ],
      "metadata": {
        "colab": {
          "base_uri": "https://localhost:8080/"
        },
        "id": "VDlDPXdQjUrk",
        "outputId": "14c26df6-64a1-4285-81d0-e859ad3e208a"
      },
      "execution_count": null,
      "outputs": [
        {
          "output_type": "stream",
          "name": "stdout",
          "text": [
            "['the punishment assigned to a defendant found guilty by a court.', 'Or fixed by law for a particular offence']\n",
            "No.of sentences :  2\n"
          ]
        }
      ]
    }
  ]
}